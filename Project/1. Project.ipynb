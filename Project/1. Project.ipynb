{
 "cells": [
  {
   "cell_type": "markdown",
   "id": "8d578009-a851-456e-973e-8f98851afe5b",
   "metadata": {},
   "source": [
    "Follow the Guidances for Each Topic\n",
    "1. Do exploratory data analysis.\n",
    "2. Select features with reasonable tools.\n",
    "3. Do data pre-processing Pipeline.\n",
    "4. Build customed neural network with reasonable number of hidden layers and number of neu-\n",
    "rons in each layer, or exising neural network model to predict target provided in individual\n",
    "topic.\n",
    "\n",
    "    - Using TensorFlow"
   ]
  },
  {
   "cell_type": "markdown",
   "id": "b9b92f9b-35e0-45f0-aafb-a8316cc9e91e",
   "metadata": {},
   "source": [
    "1. House Sales in King County, USA\n",
    "Objective:\n",
    "-  predict house price\n",
    "    - Dataset:\n",
    "            https://www.kaggle.com/datasets/harlfoxem/housesalesprediction/data\n",
    "    - Article: https://cran.r-project.org/web/packages/KingCountyHouses/KingCountyHouses.pdf"
   ]
  },
  {
   "cell_type": "markdown",
   "id": "75389d1b-6cea-4066-b615-3b075f6a7614",
   "metadata": {},
   "source": [
    "2. Dry Bean\n",
    "- Objective:\n",
    "classify dry bean class\n",
    "\n",
    "- Dataset: https://archive.ics.uci.edu/dataset/602/dry+bean+dataset\n",
    "- Article: https://ceur-ws.org/Vol-2951/paper3.pdf"
   ]
  },
  {
   "cell_type": "code",
   "execution_count": null,
   "id": "1a970773-0018-4aee-8c5b-421599a870e8",
   "metadata": {},
   "outputs": [],
   "source": []
  }
 ],
 "metadata": {
  "kernelspec": {
   "display_name": "Python 3 (ipykernel)",
   "language": "python",
   "name": "python3"
  },
  "language_info": {
   "codemirror_mode": {
    "name": "ipython",
    "version": 3
   },
   "file_extension": ".py",
   "mimetype": "text/x-python",
   "name": "python",
   "nbconvert_exporter": "python",
   "pygments_lexer": "ipython3",
   "version": "3.11.5"
  }
 },
 "nbformat": 4,
 "nbformat_minor": 5
}
