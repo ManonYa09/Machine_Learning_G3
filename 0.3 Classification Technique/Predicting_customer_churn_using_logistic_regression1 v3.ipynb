{
 "cells": [
  {
   "cell_type": "markdown",
   "id": "5d333000",
   "metadata": {},
   "source": [
    "<div style=\"padding:20px;\n",
    "            color:white;\n",
    "            margin:10;\n",
    "            font-size:170%;\n",
    "            text-align:left;\n",
    "            display:fill;\n",
    "            border-radius:5px;\n",
    "            background-color:#CA6F1E;\n",
    "            overflow:hidden;\n",
    "            font-weight:700\"><span style='color:#283747'></span>\"Predict behavior to retain customers.\" </div>"
   ]
  },
  {
   "cell_type": "markdown",
   "id": "4a1f56c1",
   "metadata": {},
   "source": [
    "> * Information **DATA**\n",
    "> https://community.ibm.com/community/user/businessanalytics/blogs/steven-macko/2019/07/11/telco-customer-churn-1113"
   ]
  },
  {
   "cell_type": "markdown",
   "id": "348dc012",
   "metadata": {},
   "source": [
    "- [1. Exploring The Dataset](#a)\n",
    "    - [1.1 Load The Datset](#1.1)\n",
    "    - [1.2 Data Description](#1.2)\n",
    "    - [1.3 Data Cleaning](#1.3)\n",
    "        - [1.3.1 Missing Value](#1.3.1)\n",
    "        - [1.3.2 Duplicated](#1.3.2)\n",
    "        - [1.3.3 Outliter](#1.3.3)\n",
    "- [2.Data Visualization and Exploratory Data Anlysis(EDA)](#2)\n",
    "    - [2.1 Gender, Seniority, Partner and Pependends](#2.1)\n",
    "    - [2.2 Services](#2.2)\n",
    "    - [2.3 Security_support](#2.3)\n",
    "    - [2.4 Contract type](#2.4)\n",
    "    - [2.5 Churn analysis based on paying options](#2.5)\n",
    "    - [2.6 Churn analysis based on tenure group](#2.6)\n",
    "    - [2.7 Charges](#2.7)\n",
    "- [3. Data preprocessing and feature engineering](#4)\n",
    "    - [3.1 Min-Max Scaling or Standardization?](#4.1)\n",
    "    - [3.2 Encoding Categorical Variables](#4.2)\n",
    "        - [3.2.1 Label Encoding](#4.2.1)\n",
    "        - [3.2.2 One hot Encoding](#4.2.2)\n",
    "        - [3.2.3 Multicolinearity](#4.2.3)\n",
    "- [4. Data Splitting and Model Building](#5)\n",
    "   - [4.1 Data Splitting](#5.1)\n",
    "   - [4.2 Model Buiding](#5.2)\n",
    "       - [4.2.1 Feature selection](#5.2.1)\n",
    "           - [4.2.1.1 Recursive Feature Elimination (RFE)](#5.2.1.1)\n",
    "           - [4.2.1.2 Model building using L1 Regularization](#5.2.1.2)\n",
    "       - [4.2.2 Feature importance](#5.2.2)\n",
    "- [5. Model Evaluation](#6) \n"
   ]
  },
  {
   "cell_type": "markdown",
   "id": "9a5ab6aa",
   "metadata": {},
   "source": [
    "<a id=\"a\"></a>\n",
    "<div style=\"padding:20px;\n",
    "            color:white;\n",
    "            margin:10;\n",
    "            font-size:170%;\n",
    "            text-align:left;\n",
    "            display:fill;\n",
    "            border-radius:5px;\n",
    "            background-color:#222222;\n",
    "            overflow:hidden;\n",
    "            font-weight:700\">1 <span style='color:#CDA63A'>|</span>Exploring The Dataset</div>"
   ]
  },
  {
   "cell_type": "code",
   "execution_count": 45,
   "id": "11926a3d",
   "metadata": {},
   "outputs": [],
   "source": [
    "import pandas as pd, numpy as np, seaborn as sns, matplotlib.pyplot as plt\n",
    "from sklearn.preprocessing import StandardScaler , OneHotEncoder, OrdinalEncoder\n",
    "from Drop_columns import DropColumnsTransformer\n",
    "### check multicorre\n",
    "from statsmodels.stats.outliers_influence import variance_inflation_factor\n",
    "## Feature selection\n",
    "from sklearn.feature_selection import RFE\n",
    "\n",
    "# from sklearn.preprocessing import LabelEncoder\n",
    "\n",
    "from sklearn.model_selection import train_test_split\n",
    "from sklearn.linear_model import LogisticRegression\n",
    "from sklearn.metrics import confusion_matrix, accuracy_score\n",
    "from sklearn.pipeline import Pipeline\n",
    "import warnings\n",
    "warnings.filterwarnings(\"ignore\")\n",
    "# Display all the column of the dataframes\n",
    "pd.set_option('display.max_columns', None)"
   ]
  },
  {
   "cell_type": "markdown",
   "id": "4cf15240",
   "metadata": {},
   "source": [
    "<a id=\"1.1\"></a>\n",
    "## <b>1.1 <span style='color:#00008B'>Load The dataset</span></b>"
   ]
  },
  {
   "cell_type": "code",
   "execution_count": 47,
   "id": "37474f88",
   "metadata": {},
   "outputs": [
    {
     "data": {
      "text/html": [
       "<div>\n",
       "<style scoped>\n",
       "    .dataframe tbody tr th:only-of-type {\n",
       "        vertical-align: middle;\n",
       "    }\n",
       "\n",
       "    .dataframe tbody tr th {\n",
       "        vertical-align: top;\n",
       "    }\n",
       "\n",
       "    .dataframe thead th {\n",
       "        text-align: right;\n",
       "    }\n",
       "</style>\n",
       "<table border=\"1\" class=\"dataframe\">\n",
       "  <thead>\n",
       "    <tr style=\"text-align: right;\">\n",
       "      <th></th>\n",
       "      <th>customerID</th>\n",
       "      <th>gender</th>\n",
       "      <th>SeniorCitizen</th>\n",
       "      <th>Partner</th>\n",
       "      <th>Dependents</th>\n",
       "      <th>tenure</th>\n",
       "      <th>PhoneService</th>\n",
       "      <th>MultipleLines</th>\n",
       "      <th>InternetService</th>\n",
       "      <th>OnlineSecurity</th>\n",
       "      <th>OnlineBackup</th>\n",
       "      <th>DeviceProtection</th>\n",
       "      <th>TechSupport</th>\n",
       "      <th>StreamingTV</th>\n",
       "      <th>StreamingMovies</th>\n",
       "      <th>Contract</th>\n",
       "      <th>PaperlessBilling</th>\n",
       "      <th>PaymentMethod</th>\n",
       "      <th>MonthlyCharges</th>\n",
       "      <th>TotalCharges</th>\n",
       "      <th>Churn</th>\n",
       "    </tr>\n",
       "  </thead>\n",
       "  <tbody>\n",
       "    <tr>\n",
       "      <th>0</th>\n",
       "      <td>7590-VHVEG</td>\n",
       "      <td>Female</td>\n",
       "      <td>0</td>\n",
       "      <td>Yes</td>\n",
       "      <td>No</td>\n",
       "      <td>1</td>\n",
       "      <td>No</td>\n",
       "      <td>No phone service</td>\n",
       "      <td>DSL</td>\n",
       "      <td>No</td>\n",
       "      <td>Yes</td>\n",
       "      <td>No</td>\n",
       "      <td>No</td>\n",
       "      <td>No</td>\n",
       "      <td>No</td>\n",
       "      <td>Month-to-month</td>\n",
       "      <td>Yes</td>\n",
       "      <td>Electronic check</td>\n",
       "      <td>29.85</td>\n",
       "      <td>29.85</td>\n",
       "      <td>No</td>\n",
       "    </tr>\n",
       "    <tr>\n",
       "      <th>1</th>\n",
       "      <td>5575-GNVDE</td>\n",
       "      <td>Male</td>\n",
       "      <td>0</td>\n",
       "      <td>No</td>\n",
       "      <td>No</td>\n",
       "      <td>34</td>\n",
       "      <td>Yes</td>\n",
       "      <td>No</td>\n",
       "      <td>DSL</td>\n",
       "      <td>Yes</td>\n",
       "      <td>No</td>\n",
       "      <td>Yes</td>\n",
       "      <td>No</td>\n",
       "      <td>No</td>\n",
       "      <td>No</td>\n",
       "      <td>One year</td>\n",
       "      <td>No</td>\n",
       "      <td>Mailed check</td>\n",
       "      <td>56.95</td>\n",
       "      <td>1889.5</td>\n",
       "      <td>No</td>\n",
       "    </tr>\n",
       "    <tr>\n",
       "      <th>2</th>\n",
       "      <td>3668-QPYBK</td>\n",
       "      <td>Male</td>\n",
       "      <td>0</td>\n",
       "      <td>No</td>\n",
       "      <td>No</td>\n",
       "      <td>2</td>\n",
       "      <td>Yes</td>\n",
       "      <td>No</td>\n",
       "      <td>DSL</td>\n",
       "      <td>Yes</td>\n",
       "      <td>Yes</td>\n",
       "      <td>No</td>\n",
       "      <td>No</td>\n",
       "      <td>No</td>\n",
       "      <td>No</td>\n",
       "      <td>Month-to-month</td>\n",
       "      <td>Yes</td>\n",
       "      <td>Mailed check</td>\n",
       "      <td>53.85</td>\n",
       "      <td>108.15</td>\n",
       "      <td>Yes</td>\n",
       "    </tr>\n",
       "    <tr>\n",
       "      <th>3</th>\n",
       "      <td>7795-CFOCW</td>\n",
       "      <td>Male</td>\n",
       "      <td>0</td>\n",
       "      <td>No</td>\n",
       "      <td>No</td>\n",
       "      <td>45</td>\n",
       "      <td>No</td>\n",
       "      <td>No phone service</td>\n",
       "      <td>DSL</td>\n",
       "      <td>Yes</td>\n",
       "      <td>No</td>\n",
       "      <td>Yes</td>\n",
       "      <td>Yes</td>\n",
       "      <td>No</td>\n",
       "      <td>No</td>\n",
       "      <td>One year</td>\n",
       "      <td>No</td>\n",
       "      <td>Bank transfer (automatic)</td>\n",
       "      <td>42.30</td>\n",
       "      <td>1840.75</td>\n",
       "      <td>No</td>\n",
       "    </tr>\n",
       "    <tr>\n",
       "      <th>4</th>\n",
       "      <td>9237-HQITU</td>\n",
       "      <td>Female</td>\n",
       "      <td>0</td>\n",
       "      <td>No</td>\n",
       "      <td>No</td>\n",
       "      <td>2</td>\n",
       "      <td>Yes</td>\n",
       "      <td>No</td>\n",
       "      <td>Fiber optic</td>\n",
       "      <td>No</td>\n",
       "      <td>No</td>\n",
       "      <td>No</td>\n",
       "      <td>No</td>\n",
       "      <td>No</td>\n",
       "      <td>No</td>\n",
       "      <td>Month-to-month</td>\n",
       "      <td>Yes</td>\n",
       "      <td>Electronic check</td>\n",
       "      <td>70.70</td>\n",
       "      <td>151.65</td>\n",
       "      <td>Yes</td>\n",
       "    </tr>\n",
       "  </tbody>\n",
       "</table>\n",
       "</div>"
      ],
      "text/plain": [
       "   customerID  gender  SeniorCitizen Partner Dependents  tenure PhoneService  \\\n",
       "0  7590-VHVEG  Female              0     Yes         No       1           No   \n",
       "1  5575-GNVDE    Male              0      No         No      34          Yes   \n",
       "2  3668-QPYBK    Male              0      No         No       2          Yes   \n",
       "3  7795-CFOCW    Male              0      No         No      45           No   \n",
       "4  9237-HQITU  Female              0      No         No       2          Yes   \n",
       "\n",
       "      MultipleLines InternetService OnlineSecurity OnlineBackup  \\\n",
       "0  No phone service             DSL             No          Yes   \n",
       "1                No             DSL            Yes           No   \n",
       "2                No             DSL            Yes          Yes   \n",
       "3  No phone service             DSL            Yes           No   \n",
       "4                No     Fiber optic             No           No   \n",
       "\n",
       "  DeviceProtection TechSupport StreamingTV StreamingMovies        Contract  \\\n",
       "0               No          No          No              No  Month-to-month   \n",
       "1              Yes          No          No              No        One year   \n",
       "2               No          No          No              No  Month-to-month   \n",
       "3              Yes         Yes          No              No        One year   \n",
       "4               No          No          No              No  Month-to-month   \n",
       "\n",
       "  PaperlessBilling              PaymentMethod  MonthlyCharges TotalCharges  \\\n",
       "0              Yes           Electronic check           29.85        29.85   \n",
       "1               No               Mailed check           56.95       1889.5   \n",
       "2              Yes               Mailed check           53.85       108.15   \n",
       "3               No  Bank transfer (automatic)           42.30      1840.75   \n",
       "4              Yes           Electronic check           70.70       151.65   \n",
       "\n",
       "  Churn  \n",
       "0    No  \n",
       "1    No  \n",
       "2   Yes  \n",
       "3    No  \n",
       "4   Yes  "
      ]
     },
     "execution_count": 47,
     "metadata": {},
     "output_type": "execute_result"
    }
   ],
   "source": [
    "df = pd.read_csv('https://raw.githubusercontent.com/ManonYa09/Statistics_with_Python_G7/main/Part%204%20Regression%20Analysis/Logistics%20Regression/WA_Fn-UseC_-Telco-Customer-Churn.csv')\n",
    "df.head()"
   ]
  },
  {
   "cell_type": "markdown",
   "id": "86f78a6e",
   "metadata": {},
   "source": [
    "\n",
    "<a id=\"4\"></a>\n",
    "<div style=\"padding:20px;\n",
    "            color:white;\n",
    "            margin:10;\n",
    "            font-size:170%;\n",
    "            text-align:left;\n",
    "            display:fill;\n",
    "            border-radius:5px;\n",
    "            background-color:#222222;\n",
    "            overflow:hidden;\n",
    "            font-weight:700\">4 <span style='color:#CDA63A'>|</span>Data preprocessing and feature engineering</div>\n"
   ]
  },
  {
   "cell_type": "code",
   "execution_count": 318,
   "id": "daa23d75-ca03-4c05-950a-108f1e4d311c",
   "metadata": {},
   "outputs": [],
   "source": [
    "df.drop(columns='customerID', inplace=True)"
   ]
  },
  {
   "cell_type": "markdown",
   "id": "1bd67de2",
   "metadata": {},
   "source": [
    "##### the columns have `no internet service` or `no phone service`, that can be replaced with a simple `No`"
   ]
  },
  {
   "cell_type": "code",
   "execution_count": 379,
   "id": "535b0f9a-8ead-43eb-8982-1c76ee821c88",
   "metadata": {},
   "outputs": [],
   "source": [
    "yes_no_columns = []\n",
    "categorical_columns= []\n",
    "numerical_columns = []\n",
    "target = 'Churn'\n",
    "for column in df.columns:\n",
    "    if  column == target:\n",
    "        continue\n",
    "    elif df[column].nunique() == 2:\n",
    "        yes_no_columns.append(column)\n",
    "    elif df[column].nunique() <=4:\n",
    "        categorical_columns.append(column)\n",
    "    else:\n",
    "        numeric_columns.append(column)"
   ]
  },
  {
   "cell_type": "markdown",
   "id": "3807e278-a2b7-402e-986c-677c3354dca3",
   "metadata": {},
   "source": [
    "### Labels endcoding"
   ]
  },
  {
   "cell_type": "code",
   "execution_count": 430,
   "id": "d56d8e39-0343-46e0-b9d7-0c0e1b639c23",
   "metadata": {},
   "outputs": [],
   "source": [
    "df2[yes_no_columns] = df2[yes_no_columns].replace({'Yes':1,\n",
    "                           'No':0,\n",
    "                            'Female':0,\n",
    "                            'Male':1})"
   ]
  },
  {
   "cell_type": "code",
   "execution_count": 425,
   "id": "70f47770-1864-4b30-8e47-1192869f0bce",
   "metadata": {
    "scrolled": true
   },
   "outputs": [
    {
     "data": {
      "text/html": [
       "<div>\n",
       "<style scoped>\n",
       "    .dataframe tbody tr th:only-of-type {\n",
       "        vertical-align: middle;\n",
       "    }\n",
       "\n",
       "    .dataframe tbody tr th {\n",
       "        vertical-align: top;\n",
       "    }\n",
       "\n",
       "    .dataframe thead th {\n",
       "        text-align: right;\n",
       "    }\n",
       "</style>\n",
       "<table border=\"1\" class=\"dataframe\">\n",
       "  <thead>\n",
       "    <tr style=\"text-align: right;\">\n",
       "      <th></th>\n",
       "      <th>gender</th>\n",
       "      <th>SeniorCitizen</th>\n",
       "      <th>Partner</th>\n",
       "      <th>Dependents</th>\n",
       "      <th>tenure</th>\n",
       "      <th>PhoneService</th>\n",
       "      <th>MultipleLines</th>\n",
       "      <th>InternetService</th>\n",
       "      <th>OnlineSecurity</th>\n",
       "      <th>OnlineBackup</th>\n",
       "      <th>DeviceProtection</th>\n",
       "      <th>TechSupport</th>\n",
       "      <th>StreamingTV</th>\n",
       "      <th>StreamingMovies</th>\n",
       "      <th>Contract</th>\n",
       "      <th>PaperlessBilling</th>\n",
       "      <th>PaymentMethod</th>\n",
       "      <th>MonthlyCharges</th>\n",
       "      <th>TotalCharges</th>\n",
       "      <th>Churn</th>\n",
       "    </tr>\n",
       "  </thead>\n",
       "  <tbody>\n",
       "    <tr>\n",
       "      <th>0</th>\n",
       "      <td>0</td>\n",
       "      <td>0</td>\n",
       "      <td>1</td>\n",
       "      <td>0</td>\n",
       "      <td>1</td>\n",
       "      <td>0</td>\n",
       "      <td>0</td>\n",
       "      <td>DSL</td>\n",
       "      <td>0</td>\n",
       "      <td>1</td>\n",
       "      <td>0</td>\n",
       "      <td>0</td>\n",
       "      <td>0</td>\n",
       "      <td>0</td>\n",
       "      <td>Month-to-month</td>\n",
       "      <td>1</td>\n",
       "      <td>Electronic check</td>\n",
       "      <td>29.85</td>\n",
       "      <td>29.85</td>\n",
       "      <td>0</td>\n",
       "    </tr>\n",
       "  </tbody>\n",
       "</table>\n",
       "</div>"
      ],
      "text/plain": [
       "   gender  SeniorCitizen  Partner  Dependents  tenure  PhoneService  \\\n",
       "0       0              0        1           0       1             0   \n",
       "\n",
       "   MultipleLines InternetService  OnlineSecurity  OnlineBackup  \\\n",
       "0              0             DSL               0             1   \n",
       "\n",
       "   DeviceProtection  TechSupport  StreamingTV  StreamingMovies  \\\n",
       "0                 0            0            0                0   \n",
       "\n",
       "         Contract  PaperlessBilling     PaymentMethod  MonthlyCharges  \\\n",
       "0  Month-to-month                 1  Electronic check           29.85   \n",
       "\n",
       "   TotalCharges  Churn  \n",
       "0         29.85      0  "
      ]
     },
     "execution_count": 425,
     "metadata": {},
     "output_type": "execute_result"
    }
   ],
   "source": [
    "df2.head(1)"
   ]
  },
  {
   "cell_type": "markdown",
   "id": "e55d7142",
   "metadata": {},
   "source": [
    "<a id=\"4.2.2\"></a>\n",
    "## <b>4.2.2 <span style='color:#00008B'>Multicollinearity</span></b>"
   ]
  },
  {
   "cell_type": "markdown",
   "id": "a2c43a52",
   "metadata": {},
   "source": [
    "### Detecting Multicollinearity"
   ]
  },
  {
   "cell_type": "markdown",
   "id": "637dc217",
   "metadata": {},
   "source": [
    "A statistical technique called the **variance inflation factor (VIF)** can detect and measure the amount of collinearity in a multiple regression model.\n",
    "- A VIF of 1 will mean that the variables are not correlated.\n",
    "- A VIF between 1 and 5 shows that variables are moderately correlated.\n",
    "- A VIF between 5 and 10 will mean that variables are highly correlated."
   ]
  },
  {
   "cell_type": "markdown",
   "id": "2a94bfea",
   "metadata": {},
   "source": [
    "\n",
    "[More about Multicollinearity](https://www.investopedia.com/terms/m/multicollinearity.asp#:~:text=Multicollinearity%20is%20a%20statistical%20concept,in%20less%20reliable%20statistical%20inferences.)"
   ]
  },
  {
   "cell_type": "markdown",
   "id": "6b8383c3",
   "metadata": {},
   "source": [
    "<a id=\"5\"></a>\n",
    "<div style=\"padding:20px;\n",
    "            color:white;\n",
    "            margin:10;\n",
    "            font-size:170%;\n",
    "            text-align:left;\n",
    "            display:fill;\n",
    "            border-radius:5px;\n",
    "            background-color:#222222;\n",
    "            overflow:hidden;\n",
    "            font-weight:700\">4 <span style='color:#CDA63A'>|</span>Data Splitting and Model Building</div>"
   ]
  },
  {
   "cell_type": "markdown",
   "id": "85851cc3",
   "metadata": {},
   "source": [
    "<a id=\"5.1\"></a>\n",
    "# <b>4.1 <span style='color:#00008B'>Data Splitting Or Cross Validation</span></b>\n"
   ]
  },
  {
   "cell_type": "markdown",
   "id": "de62c7d0",
   "metadata": {},
   "source": [
    "**splitting** our dataset into training and testing sets to avoid bias in your model.<br>\n",
    "**Overfitting**"
   ]
  },
  {
   "cell_type": "code",
   "execution_count": 471,
   "id": "c8bb91bc",
   "metadata": {},
   "outputs": [],
   "source": [
    "X = df2.drop(columns='Churn')\n",
    "y = df2['Churn']"
   ]
  },
  {
   "cell_type": "code",
   "execution_count": 467,
   "id": "d307b492-3549-451a-b38a-18461e6d236e",
   "metadata": {},
   "outputs": [],
   "source": [
    "from sklearn.model_selection import train_test_split "
   ]
  },
  {
   "cell_type": "code",
   "execution_count": 473,
   "id": "1b5bc420-f809-42e5-8e37-b807e7c0b728",
   "metadata": {
    "tags": []
   },
   "outputs": [],
   "source": [
    "x_train, x_test, y_train, y_test = train_test_split(X, y, test_size = 0.20, random_state = 0)"
   ]
  },
  {
   "cell_type": "markdown",
   "id": "d48a03b1-7595-4fae-b53d-60dbca2f8efe",
   "metadata": {},
   "source": [
    "<a id=\"5.2\"></a>\n",
    "# <b>5.2 <span style='color:#00008B'>Model Buiding and Model Evaluation</span></b>"
   ]
  },
  {
   "cell_type": "markdown",
   "id": "822f75ce",
   "metadata": {},
   "source": [
    "**LogisticRegression**\n",
    "<img src=\"https://raw.githubusercontent.com/ManonYa09/Statistics_with_Python_G7/main/Part%204%20Regression%20Analysis/Photos/Logistics.png\" alt=\"Logistics\" width=\"50%\" style=\"display: block; margin: 0 auto;\">\n",
    "<img src=\"https://raw.githubusercontent.com/ManonYa09/Statistics_with_Python_G7/main/Part%204%20Regression%20Analysis/Photos/Sigmoid_function.png\" alt=\"Logistics\" width=\"50%\" style=\"display: block; margin: 0 auto;\">"
   ]
  },
  {
   "cell_type": "code",
   "execution_count": 483,
   "id": "a6d3aa30",
   "metadata": {},
   "outputs": [],
   "source": [
    "Logistic = LogisticRegression()"
   ]
  },
  {
   "cell_type": "code",
   "execution_count": 485,
   "id": "978e7acd-1ce8-4235-bf36-2658a31957fd",
   "metadata": {},
   "outputs": [],
   "source": [
    "# x_train >= model <= y_train "
   ]
  },
  {
   "cell_type": "code",
   "execution_count": 487,
   "id": "f2198126",
   "metadata": {},
   "outputs": [
    {
     "data": {
      "text/html": [
       "<style>#sk-container-id-1 {color: black;background-color: white;}#sk-container-id-1 pre{padding: 0;}#sk-container-id-1 div.sk-toggleable {background-color: white;}#sk-container-id-1 label.sk-toggleable__label {cursor: pointer;display: block;width: 100%;margin-bottom: 0;padding: 0.3em;box-sizing: border-box;text-align: center;}#sk-container-id-1 label.sk-toggleable__label-arrow:before {content: \"▸\";float: left;margin-right: 0.25em;color: #696969;}#sk-container-id-1 label.sk-toggleable__label-arrow:hover:before {color: black;}#sk-container-id-1 div.sk-estimator:hover label.sk-toggleable__label-arrow:before {color: black;}#sk-container-id-1 div.sk-toggleable__content {max-height: 0;max-width: 0;overflow: hidden;text-align: left;background-color: #f0f8ff;}#sk-container-id-1 div.sk-toggleable__content pre {margin: 0.2em;color: black;border-radius: 0.25em;background-color: #f0f8ff;}#sk-container-id-1 input.sk-toggleable__control:checked~div.sk-toggleable__content {max-height: 200px;max-width: 100%;overflow: auto;}#sk-container-id-1 input.sk-toggleable__control:checked~label.sk-toggleable__label-arrow:before {content: \"▾\";}#sk-container-id-1 div.sk-estimator input.sk-toggleable__control:checked~label.sk-toggleable__label {background-color: #d4ebff;}#sk-container-id-1 div.sk-label input.sk-toggleable__control:checked~label.sk-toggleable__label {background-color: #d4ebff;}#sk-container-id-1 input.sk-hidden--visually {border: 0;clip: rect(1px 1px 1px 1px);clip: rect(1px, 1px, 1px, 1px);height: 1px;margin: -1px;overflow: hidden;padding: 0;position: absolute;width: 1px;}#sk-container-id-1 div.sk-estimator {font-family: monospace;background-color: #f0f8ff;border: 1px dotted black;border-radius: 0.25em;box-sizing: border-box;margin-bottom: 0.5em;}#sk-container-id-1 div.sk-estimator:hover {background-color: #d4ebff;}#sk-container-id-1 div.sk-parallel-item::after {content: \"\";width: 100%;border-bottom: 1px solid gray;flex-grow: 1;}#sk-container-id-1 div.sk-label:hover label.sk-toggleable__label {background-color: #d4ebff;}#sk-container-id-1 div.sk-serial::before {content: \"\";position: absolute;border-left: 1px solid gray;box-sizing: border-box;top: 0;bottom: 0;left: 50%;z-index: 0;}#sk-container-id-1 div.sk-serial {display: flex;flex-direction: column;align-items: center;background-color: white;padding-right: 0.2em;padding-left: 0.2em;position: relative;}#sk-container-id-1 div.sk-item {position: relative;z-index: 1;}#sk-container-id-1 div.sk-parallel {display: flex;align-items: stretch;justify-content: center;background-color: white;position: relative;}#sk-container-id-1 div.sk-item::before, #sk-container-id-1 div.sk-parallel-item::before {content: \"\";position: absolute;border-left: 1px solid gray;box-sizing: border-box;top: 0;bottom: 0;left: 50%;z-index: -1;}#sk-container-id-1 div.sk-parallel-item {display: flex;flex-direction: column;z-index: 1;position: relative;background-color: white;}#sk-container-id-1 div.sk-parallel-item:first-child::after {align-self: flex-end;width: 50%;}#sk-container-id-1 div.sk-parallel-item:last-child::after {align-self: flex-start;width: 50%;}#sk-container-id-1 div.sk-parallel-item:only-child::after {width: 0;}#sk-container-id-1 div.sk-dashed-wrapped {border: 1px dashed gray;margin: 0 0.4em 0.5em 0.4em;box-sizing: border-box;padding-bottom: 0.4em;background-color: white;}#sk-container-id-1 div.sk-label label {font-family: monospace;font-weight: bold;display: inline-block;line-height: 1.2em;}#sk-container-id-1 div.sk-label-container {text-align: center;}#sk-container-id-1 div.sk-container {/* jupyter's `normalize.less` sets `[hidden] { display: none; }` but bootstrap.min.css set `[hidden] { display: none !important; }` so we also need the `!important` here to be able to override the default hidden behavior on the sphinx rendered scikit-learn.org. See: https://github.com/scikit-learn/scikit-learn/issues/21755 */display: inline-block !important;position: relative;}#sk-container-id-1 div.sk-text-repr-fallback {display: none;}</style><div id=\"sk-container-id-1\" class=\"sk-top-container\"><div class=\"sk-text-repr-fallback\"><pre>LogisticRegression()</pre><b>In a Jupyter environment, please rerun this cell to show the HTML representation or trust the notebook. <br />On GitHub, the HTML representation is unable to render, please try loading this page with nbviewer.org.</b></div><div class=\"sk-container\" hidden><div class=\"sk-item\"><div class=\"sk-estimator sk-toggleable\"><input class=\"sk-toggleable__control sk-hidden--visually\" id=\"sk-estimator-id-1\" type=\"checkbox\" checked><label for=\"sk-estimator-id-1\" class=\"sk-toggleable__label sk-toggleable__label-arrow\">LogisticRegression</label><div class=\"sk-toggleable__content\"><pre>LogisticRegression()</pre></div></div></div></div></div>"
      ],
      "text/plain": [
       "LogisticRegression()"
      ]
     },
     "execution_count": 487,
     "metadata": {},
     "output_type": "execute_result"
    }
   ],
   "source": [
    "Logistic.fit(x_train, y_train)"
   ]
  },
  {
   "cell_type": "code",
   "execution_count": 489,
   "id": "12279b74",
   "metadata": {},
   "outputs": [],
   "source": [
    "y_pred = Logistic.predict(x_test)"
   ]
  },
  {
   "cell_type": "code",
   "execution_count": 499,
   "id": "fe2f0852-2a86-4a47-8ee3-a78400c6bfa3",
   "metadata": {},
   "outputs": [
    {
     "data": {
      "text/plain": [
       "5561    0\n",
       "5814    0\n",
       "2645    0\n",
       "3983    1\n",
       "6438    1\n",
       "       ..\n",
       "2757    0\n",
       "5702    1\n",
       "1662    1\n",
       "2766    0\n",
       "2918    0\n",
       "Name: Churn, Length: 1407, dtype: int64"
      ]
     },
     "execution_count": 499,
     "metadata": {},
     "output_type": "execute_result"
    }
   ],
   "source": [
    "y_test"
   ]
  },
  {
   "cell_type": "code",
   "execution_count": 497,
   "id": "745ed914-ba63-49a0-8ac8-91e0861b5a0d",
   "metadata": {},
   "outputs": [
    {
     "data": {
      "text/plain": [
       "array([0, 0, 0, ..., 1, 0, 1])"
      ]
     },
     "execution_count": 497,
     "metadata": {},
     "output_type": "execute_result"
    }
   ],
   "source": [
    "y_pred"
   ]
  },
  {
   "cell_type": "code",
   "execution_count": 501,
   "id": "bb0b5ecd-1098-4a21-b243-568a8878da2f",
   "metadata": {},
   "outputs": [],
   "source": [
    "# error.describe()"
   ]
  },
  {
   "cell_type": "code",
   "execution_count": 503,
   "id": "70228c70",
   "metadata": {},
   "outputs": [
    {
     "data": {
      "text/plain": [
       "array([[932, 106],\n",
       "       [173, 196]])"
      ]
     },
     "execution_count": 503,
     "metadata": {},
     "output_type": "execute_result"
    }
   ],
   "source": [
    "confusion_matrix(y_test, y_pred)"
   ]
  },
  {
   "cell_type": "markdown",
   "id": "fa9d73aa-1d73-422b-89d0-21482da2cc94",
   "metadata": {},
   "source": [
    "<img src=\"https://raw.githubusercontent.com/ManonYa09/Statistics_with_Python_G7/main/Part%204%20Regression%20Analysis/Photos/confusion_matrix.webp\" alt=\"Logistics\" width=\"50%\" style=\"display: block; margin: 0 auto;\">"
   ]
  },
  {
   "cell_type": "code",
   "execution_count": 508,
   "id": "99e8465c",
   "metadata": {},
   "outputs": [],
   "source": [
    "def model_eval(y_test,y_pred): ## y_test:y_actual\n",
    "    tn, fp, fn, tp = confusion_matrix(y_test,y_pred).ravel()\n",
    "    accuracy=(tp+tn)/(tp+tn+fp+fn)\n",
    "    error = 1-accuracy\n",
    "    precision=tp/(tp+fp) ## tp : 1: correct , fp: 1 wrong\n",
    "    recall=tp/(tp+fn) ## tp : 1: correct, fn: 0 : wrong, 1 \n",
    "    specificity=tn/(fp+tn)\n",
    "    result={\"Accuracy\":accuracy,\"Error\":error, \"Precision\":precision,\"Recall\":recall,'Specificity':specificity}\n",
    "    return result"
   ]
  },
  {
   "cell_type": "code",
   "execution_count": 557,
   "id": "4f9168fc",
   "metadata": {},
   "outputs": [
    {
     "data": {
      "text/plain": [
       "{'Accuracy': 0.7553475935828877,\n",
       " 'Error': 0.24465240641711228,\n",
       " 'Precision': 0.7344497607655502,\n",
       " 'Recall': 0.8100263852242744,\n",
       " 'Specificity': 0.6991869918699187}"
      ]
     },
     "execution_count": 557,
     "metadata": {},
     "output_type": "execute_result"
    }
   ],
   "source": [
    "model_eval(y_test2, y_pred2)"
   ]
  },
  {
   "cell_type": "markdown",
   "id": "e9a96963",
   "metadata": {},
   "source": [
    "<a id=\"5.2.1\"></a>\n",
    "## <b>5.2.1 <span style='color:#00008B'>Feature selection</span></b>\n"
   ]
  },
  {
   "cell_type": "markdown",
   "id": "daaa4357",
   "metadata": {},
   "source": [
    "<a id=\"5.2.1.1\"></a>\n",
    "### <b>5.2.1.1 <span style='color:#00008B'>Recursive Feature Elimination (RFE)</span></b>\n",
    "\n",
    "[More about RFE](https://www.analyticsvidhya.com/blog/2023/05/recursive-feature-elimination/#:~:text=Recursive%20Feature%20Elimination%20is%20a,number%20of%20features%20is%20obtained.)\n",
    "```python\n",
    "from sklearn.feature_selection import RFE\n",
    "from sklearn.linear_model import LogisticRegression\n",
    "\n",
    "# Create a logistic regression model\n",
    "model = LogisticRegression()\n",
    "\n",
    "# Initialize RFE with desired number of features\n",
    "n_features = 10\n",
    "rfe = RFE(estimator=model, n_features_to_select=n_features)\n",
    "\n",
    "# Fit RFE on the training data\n",
    "X_train_selected = rfe.fit_transform(X_train, y_train)\n",
    "X_test_selected = rfe.transform(X_test)\n",
    "\n",
    "# Get selected feature indices\n",
    "selected_feature_indices = rfe.support_\n",
    "selected_features = X.columns[selected_feature_indices]\n",
    "\n",
    "```\n"
   ]
  },
  {
   "cell_type": "markdown",
   "id": "6da74e3f",
   "metadata": {},
   "source": [
    "## Model building using RFE\n",
    "---\n",
    "**Recursive Feature Elimination** algorithm works in the following steps:\n",
    "1. Rank the importance of all features using the chosen RFE machine learning algorithm.\n",
    "2. Eliminate the least important feature.\n",
    "3. Build a model using the remaining features."
   ]
  },
  {
   "cell_type": "code",
   "execution_count": null,
   "id": "4abad1ca",
   "metadata": {},
   "outputs": [],
   "source": [
    "n = int(input('Input the number of features you want to predict: '))\n",
    "\n",
    "rfe = RFE(Logistic2, n_features_to_select= n)\n",
    "rfe.fit(x_train, y_train)"
   ]
  },
  {
   "cell_type": "code",
   "execution_count": null,
   "id": "c10b7ee3",
   "metadata": {},
   "outputs": [],
   "source": [
    "len(x_train2.columns)"
   ]
  },
  {
   "cell_type": "code",
   "execution_count": null,
   "id": "8fbefa54",
   "metadata": {},
   "outputs": [],
   "source": [
    "rfe.support_"
   ]
  },
  {
   "cell_type": "code",
   "execution_count": null,
   "id": "c7d3ebf0",
   "metadata": {},
   "outputs": [],
   "source": [
    "\n",
    "selected_features = x_train[x_train.columns[rfe.support_]]"
   ]
  },
  {
   "cell_type": "code",
   "execution_count": null,
   "id": "8460f3e7",
   "metadata": {},
   "outputs": [],
   "source": [
    "selected_features"
   ]
  },
  {
   "cell_type": "code",
   "execution_count": null,
   "id": "b9ed967b",
   "metadata": {},
   "outputs": [],
   "source": [
    "# selected_features"
   ]
  },
  {
   "cell_type": "code",
   "execution_count": null,
   "id": "a06dc1d5",
   "metadata": {},
   "outputs": [],
   "source": [
    "Logistic3 = LogisticRegression()"
   ]
  },
  {
   "cell_type": "code",
   "execution_count": null,
   "id": "43efad36",
   "metadata": {},
   "outputs": [],
   "source": [
    "# "
   ]
  },
  {
   "cell_type": "code",
   "execution_count": null,
   "id": "deb86b9a",
   "metadata": {},
   "outputs": [],
   "source": [
    "# x_train = x_train[selected_features]"
   ]
  },
  {
   "cell_type": "code",
   "execution_count": null,
   "id": "c061b51c",
   "metadata": {},
   "outputs": [],
   "source": [
    "Logistic3.fit(selected_features, y_train)"
   ]
  },
  {
   "cell_type": "code",
   "execution_count": null,
   "id": "6c780658",
   "metadata": {},
   "outputs": [],
   "source": [
    "selected_features.columns"
   ]
  },
  {
   "cell_type": "code",
   "execution_count": null,
   "id": "081bc98d",
   "metadata": {},
   "outputs": [],
   "source": [
    "x_test2[selected_features.columns]"
   ]
  },
  {
   "cell_type": "code",
   "execution_count": null,
   "id": "91dcd0a7",
   "metadata": {},
   "outputs": [],
   "source": [
    "y_pred3 = Logistic3.predict(x_test2[selected_features.columns])"
   ]
  },
  {
   "cell_type": "code",
   "execution_count": null,
   "id": "8346d6f2-3cb7-4e18-838e-d1d30c1bbb72",
   "metadata": {},
   "outputs": [],
   "source": [
    "len(y_pred3)"
   ]
  },
  {
   "cell_type": "code",
   "execution_count": null,
   "id": "544621d8",
   "metadata": {},
   "outputs": [],
   "source": [
    "model_eval(y_test2, y_pred3)"
   ]
  },
  {
   "cell_type": "code",
   "execution_count": null,
   "id": "790e74f3-f47f-47f5-933a-c82863d76c3b",
   "metadata": {},
   "outputs": [],
   "source": [
    "x_test2[selected_features.columns]"
   ]
  },
  {
   "cell_type": "code",
   "execution_count": null,
   "id": "2f62fb33",
   "metadata": {},
   "outputs": [],
   "source": [
    "Logistic3.coef_"
   ]
  },
  {
   "cell_type": "code",
   "execution_count": null,
   "id": "3f49e0f5",
   "metadata": {},
   "outputs": [],
   "source": [
    "# selected_features.isnull().sum()"
   ]
  },
  {
   "cell_type": "code",
   "execution_count": null,
   "id": "eb4051d8",
   "metadata": {},
   "outputs": [],
   "source": [
    "# y_train.isnull().sum()"
   ]
  },
  {
   "cell_type": "code",
   "execution_count": null,
   "id": "75c56287",
   "metadata": {},
   "outputs": [],
   "source": [
    "# selected_features = selected_features.astype(int)"
   ]
  },
  {
   "cell_type": "code",
   "execution_count": null,
   "id": "d3c97770",
   "metadata": {},
   "outputs": [],
   "source": [
    "# y_train"
   ]
  },
  {
   "cell_type": "code",
   "execution_count": null,
   "id": "b833213a",
   "metadata": {},
   "outputs": [],
   "source": [
    "# Logistic1.coef_"
   ]
  },
  {
   "cell_type": "code",
   "execution_count": null,
   "id": "40d956be",
   "metadata": {},
   "outputs": [],
   "source": [
    "selected_features"
   ]
  },
  {
   "cell_type": "code",
   "execution_count": null,
   "id": "3a88df3e",
   "metadata": {},
   "outputs": [],
   "source": [
    "coefficients1 = Logistic3.coef_\n",
    "coefficients1"
   ]
  },
  {
   "cell_type": "code",
   "execution_count": null,
   "id": "8357b63b",
   "metadata": {},
   "outputs": [],
   "source": [
    "coefficients1 = coefficients1[0].tolist()"
   ]
  },
  {
   "cell_type": "code",
   "execution_count": null,
   "id": "8cbc8736",
   "metadata": {},
   "outputs": [],
   "source": [
    "feature_names=selected_features.columns.tolist()"
   ]
  },
  {
   "cell_type": "code",
   "execution_count": null,
   "id": "a2f2ac1f",
   "metadata": {},
   "outputs": [],
   "source": [
    "final_featureimportance = pd.DataFrame({'Coefficient':coefficients1,\n",
    "                          'feature_names1':feature_names})\n",
    "final_featureimportance"
   ]
  },
  {
   "cell_type": "code",
   "execution_count": null,
   "id": "530b24fb-e016-42e1-809f-07b9f5943076",
   "metadata": {},
   "outputs": [],
   "source": [
    "data = pd.read_csv('WA_Fn-UseC_-Telco-Customer-Churn.csv')"
   ]
  },
  {
   "cell_type": "code",
   "execution_count": null,
   "id": "072df064-79d8-4352-9b4b-bcc2753c95d1",
   "metadata": {},
   "outputs": [],
   "source": [
    "sns.countplot(x = data['Contract'], hue = data['Churn'])"
   ]
  },
  {
   "cell_type": "code",
   "execution_count": null,
   "id": "ad0c280a-06db-4c8d-bb5a-5b5e3df8ae38",
   "metadata": {},
   "outputs": [],
   "source": [
    "sns.countplot(x = data['InternetService'], hue = data['Churn'])"
   ]
  },
  {
   "cell_type": "code",
   "execution_count": null,
   "id": "fbeefd94",
   "metadata": {},
   "outputs": [],
   "source": [
    "final_featureimportance.sort_values(by = 'Coefficient', ascending=False)"
   ]
  },
  {
   "cell_type": "code",
   "execution_count": null,
   "id": "891a371c",
   "metadata": {},
   "outputs": [],
   "source": [
    "# Logistic1.intercept_"
   ]
  },
  {
   "cell_type": "code",
   "execution_count": 559,
   "id": "c1781cc4",
   "metadata": {},
   "outputs": [],
   "source": [
    "from explainerdashboard import ClassifierExplainer , ExplainerDashboard\n",
    "\n"
   ]
  },
  {
   "cell_type": "code",
   "execution_count": null,
   "id": "a38ae6c5",
   "metadata": {},
   "outputs": [],
   "source": [
    "explainer = ClassifierExplainer(Logistic2, selected_features, y_train)\n",
    "ExplainerDashboard(explainer, port=433).run()"
   ]
  },
  {
   "cell_type": "code",
   "execution_count": null,
   "id": "03244864",
   "metadata": {},
   "outputs": [],
   "source": []
  }
 ],
 "metadata": {
  "celltoolbar": "Raw Cell Format",
  "kernelspec": {
   "display_name": "Python 3 (ipykernel)",
   "language": "python",
   "name": "python3"
  },
  "language_info": {
   "codemirror_mode": {
    "name": "ipython",
    "version": 3
   },
   "file_extension": ".py",
   "mimetype": "text/x-python",
   "name": "python",
   "nbconvert_exporter": "python",
   "pygments_lexer": "ipython3",
   "version": "3.11.5"
  }
 },
 "nbformat": 4,
 "nbformat_minor": 5
}
