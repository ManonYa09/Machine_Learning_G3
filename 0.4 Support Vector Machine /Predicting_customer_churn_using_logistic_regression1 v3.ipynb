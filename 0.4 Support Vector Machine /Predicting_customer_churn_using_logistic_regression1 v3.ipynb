{
 "cells": [
  {
   "cell_type": "markdown",
   "id": "5d333000",
   "metadata": {},
   "source": [
    "<div style=\"padding:20px;\n",
    "            color:white;\n",
    "            margin:10;\n",
    "            font-size:170%;\n",
    "            text-align:left;\n",
    "            display:fill;\n",
    "            border-radius:5px;\n",
    "            background-color:#CA6F1E;\n",
    "            overflow:hidden;\n",
    "            font-weight:700\"><span style='color:#283747'></span>\"Predict behavior to retain customers.\" </div>"
   ]
  },
  {
   "cell_type": "markdown",
   "id": "4a1f56c1",
   "metadata": {},
   "source": [
    "> * Information **DATA**\n",
    "> https://community.ibm.com/community/user/businessanalytics/blogs/steven-macko/2019/07/11/telco-customer-churn-1113"
   ]
  },
  {
   "cell_type": "markdown",
   "id": "348dc012",
   "metadata": {},
   "source": [
    "- [1. Exploring The Dataset](#a)\n",
    "    - [1.1 Load The Datset](#1.1)\n",
    "    - [1.2 Data Description](#1.2)\n",
    "    - [1.3 Data Cleaning](#1.3)\n",
    "        - [1.3.1 Missing Value](#1.3.1)\n",
    "        - [1.3.2 Duplicated](#1.3.2)\n",
    "        - [1.3.3 Outliter](#1.3.3)\n",
    "- [2.Data Visualization and Exploratory Data Anlysis(EDA)](#2)\n",
    "    - [2.1 Gender, Seniority, Partner and Pependends](#2.1)\n",
    "    - [2.2 Services](#2.2)\n",
    "    - [2.3 Security_support](#2.3)\n",
    "    - [2.4 Contract type](#2.4)\n",
    "    - [2.5 Churn analysis based on paying options](#2.5)\n",
    "    - [2.6 Churn analysis based on tenure group](#2.6)\n",
    "    - [2.7 Charges](#2.7)\n",
    "- [3. Data preprocessing and feature engineering](#4)\n",
    "    - [3.1 Min-Max Scaling or Standardization?](#4.1)\n",
    "    - [3.2 Encoding Categorical Variables](#4.2)\n",
    "        - [3.2.1 Label Encoding](#4.2.1)\n",
    "        - [3.2.2 One hot Encoding](#4.2.2)\n",
    "        - [3.2.3 Multicolinearity](#4.2.3)\n",
    "- [4. Data Splitting and Model Building](#5)\n",
    "   - [4.1 Data Splitting](#5.1)\n",
    "   - [4.2 Model Buiding](#5.2)\n",
    "       - [4.2.1 Feature selection](#5.2.1)\n",
    "           - [4.2.1.1 Recursive Feature Elimination (RFE)](#5.2.1.1)\n",
    "           - [4.2.1.2 Model building using L1 Regularization](#5.2.1.2)\n",
    "       - [4.2.2 Feature importance](#5.2.2)\n",
    "- [5. Model Evaluation](#6) \n"
   ]
  },
  {
   "cell_type": "markdown",
   "id": "9a5ab6aa",
   "metadata": {},
   "source": [
    "<a id=\"a\"></a>\n",
    "<div style=\"padding:20px;\n",
    "            color:white;\n",
    "            margin:10;\n",
    "            font-size:170%;\n",
    "            text-align:left;\n",
    "            display:fill;\n",
    "            border-radius:5px;\n",
    "            background-color:#222222;\n",
    "            overflow:hidden;\n",
    "            font-weight:700\">1 <span style='color:#CDA63A'>|</span>Exploring The Dataset</div>"
   ]
  },
  {
   "cell_type": "code",
   "execution_count": 10,
   "id": "11926a3d",
   "metadata": {},
   "outputs": [],
   "source": [
    "import pandas as pd, numpy as np, seaborn as sns, matplotlib.pyplot as plt\n",
    "from sklearn.preprocessing import StandardScaler , OneHotEncoder, OrdinalEncoder\n",
    "from sklearn.compose import ColumnTransformer\n",
    "from sklearn.preprocessing import FunctionTransformer\n",
    "\n",
    "### check multicorre\n",
    "## Feature selection\n",
    "from sklearn.feature_selection import RFE\n",
    "\n",
    "from sklearn.model_selection import train_test_split\n",
    "\n",
    "from sklearn.linear_model import LogisticRegression\n",
    "from sklearn.metrics import confusion_matrix, accuracy_score\n",
    "from sklearn.pipeline import Pipeline\n",
    "import warnings\n",
    "warnings.filterwarnings(\"ignore\")\n",
    "# Display all the column of the dataframes\n",
    "pd.set_option('display.max_columns', None)"
   ]
  },
  {
   "cell_type": "markdown",
   "id": "4cf15240",
   "metadata": {},
   "source": [
    "<a id=\"1.1\"></a>\n",
    "## <b>1.1 <span style='color:#00008B'>Load The dataset</span></b>"
   ]
  },
  {
   "cell_type": "code",
   "execution_count": 12,
   "id": "37474f88",
   "metadata": {},
   "outputs": [],
   "source": [
    "df = pd.read_csv('https://raw.githubusercontent.com/ManonYa09/Statistics_with_Python_G7/main/Part%204%20Regression%20Analysis/Logistics%20Regression/WA_Fn-UseC_-Telco-Customer-Churn.csv')"
   ]
  },
  {
   "cell_type": "markdown",
   "id": "86f78a6e",
   "metadata": {},
   "source": [
    "\n",
    "<a id=\"4\"></a>\n",
    "<div style=\"padding:20px;\n",
    "            color:white;\n",
    "            margin:10;\n",
    "            font-size:170%;\n",
    "            text-align:left;\n",
    "            display:fill;\n",
    "            border-radius:5px;\n",
    "            background-color:#222222;\n",
    "            overflow:hidden;\n",
    "            font-weight:700\">4 <span style='color:#CDA63A'>|</span>Data preprocessing and feature engineering</div>\n"
   ]
  },
  {
   "cell_type": "code",
   "execution_count": 14,
   "id": "191079f2-381d-4f92-9787-f8efe3096765",
   "metadata": {},
   "outputs": [],
   "source": [
    "columns_to_drop = ['customerID', 'gender', 'TotalCharges']"
   ]
  },
  {
   "cell_type": "code",
   "execution_count": 16,
   "id": "535b0f9a-8ead-43eb-8982-1c76ee821c88",
   "metadata": {},
   "outputs": [],
   "source": [
    "yes_no_columns = []\n",
    "categorical_columns= []\n",
    "numerical_columns = []\n",
    "target = 'Churn'\n",
    "for column in df.columns:\n",
    "    if  column == target:\n",
    "        continue\n",
    "    elif column == 'customerID':\n",
    "        continue\n",
    "    elif column == 'TotalCharges':\n",
    "        continue\n",
    "    elif column == 'gender':\n",
    "        continue\n",
    "    elif df[column].nunique() == 2:\n",
    "        yes_no_columns.append(column)\n",
    "    elif df[column].nunique() <=4:\n",
    "        categorical_columns.append(column)\n",
    "    else:\n",
    "        numerical_columns.append(column)"
   ]
  },
  {
   "cell_type": "code",
   "execution_count": 18,
   "id": "5d2b3538-4e57-4690-b005-79a8fc9561e7",
   "metadata": {},
   "outputs": [],
   "source": [
    "# FunctionTransformer()"
   ]
  },
  {
   "cell_type": "code",
   "execution_count": 20,
   "id": "4ad16f83-6f73-4eae-a886-f272532a869f",
   "metadata": {},
   "outputs": [],
   "source": [
    "def drop_columns(X):\n",
    "    return X.drop(columns=columns_to_drop)"
   ]
  },
  {
   "cell_type": "code",
   "execution_count": 24,
   "id": "11612a03-169a-4f7a-9458-767e32d700d0",
   "metadata": {},
   "outputs": [],
   "source": [
    "df_yes = df[df['Churn']=='Yes']\n",
    "df_no = df[df['Churn']=='No']\n",
    "df_no = df_no.sample(n = 1000)\n",
    "data = pd.concat([df_yes, df_no])"
   ]
  },
  {
   "cell_type": "code",
   "execution_count": 26,
   "id": "acfe22a8-4855-414c-a2fd-75fbfe46e7f7",
   "metadata": {},
   "outputs": [],
   "source": [
    "x = data.drop(columns=target)\n",
    "y = data[target]"
   ]
  },
  {
   "cell_type": "code",
   "execution_count": null,
   "id": "69806f95-56a1-4c25-92c5-8dfe95c9d161",
   "metadata": {},
   "outputs": [],
   "source": [
    "fit_transfrom : work , fit can work"
   ]
  },
  {
   "cell_type": "code",
   "execution_count": 128,
   "id": "81f59829-6cc3-4f48-a531-607f4af2a29c",
   "metadata": {},
   "outputs": [],
   "source": [
    "preprocessing = ColumnTransformer([\n",
    "    ('One_hot', OneHotEncoder(), categorical_columns),\n",
    "    ('yes_no', OrdinalEncoder(), yes_no_columns),\n",
    "    ('scaling', StandardScaler(), numerical_columns)])"
   ]
  },
  {
   "cell_type": "code",
   "execution_count": 130,
   "id": "691f220a-0756-4a4d-b90a-8cdcb26094f4",
   "metadata": {},
   "outputs": [],
   "source": [
    "traning_pipeline_logistic = Pipeline([\n",
    "    ('drop', FunctionTransformer(drop_columns)),\n",
    "    ('preproccessing', preprocessing),\n",
    "    ('model1', LogisticRegression())\n",
    "    ])"
   ]
  },
  {
   "cell_type": "code",
   "execution_count": 172,
   "id": "7968ba65-06a3-4394-8597-0366d6a21e76",
   "metadata": {},
   "outputs": [],
   "source": [
    "x_train, x_test, y_train , y_test = train_test_split(x, y, test_size=.1) ## cross validation"
   ]
  },
  {
   "cell_type": "code",
   "execution_count": 174,
   "id": "0d65cb53-3423-48d9-952a-298d272ff53a",
   "metadata": {},
   "outputs": [
    {
     "data": {
      "text/html": [
       "<style>#sk-container-id-14 {color: black;background-color: white;}#sk-container-id-14 pre{padding: 0;}#sk-container-id-14 div.sk-toggleable {background-color: white;}#sk-container-id-14 label.sk-toggleable__label {cursor: pointer;display: block;width: 100%;margin-bottom: 0;padding: 0.3em;box-sizing: border-box;text-align: center;}#sk-container-id-14 label.sk-toggleable__label-arrow:before {content: \"▸\";float: left;margin-right: 0.25em;color: #696969;}#sk-container-id-14 label.sk-toggleable__label-arrow:hover:before {color: black;}#sk-container-id-14 div.sk-estimator:hover label.sk-toggleable__label-arrow:before {color: black;}#sk-container-id-14 div.sk-toggleable__content {max-height: 0;max-width: 0;overflow: hidden;text-align: left;background-color: #f0f8ff;}#sk-container-id-14 div.sk-toggleable__content pre {margin: 0.2em;color: black;border-radius: 0.25em;background-color: #f0f8ff;}#sk-container-id-14 input.sk-toggleable__control:checked~div.sk-toggleable__content {max-height: 200px;max-width: 100%;overflow: auto;}#sk-container-id-14 input.sk-toggleable__control:checked~label.sk-toggleable__label-arrow:before {content: \"▾\";}#sk-container-id-14 div.sk-estimator input.sk-toggleable__control:checked~label.sk-toggleable__label {background-color: #d4ebff;}#sk-container-id-14 div.sk-label input.sk-toggleable__control:checked~label.sk-toggleable__label {background-color: #d4ebff;}#sk-container-id-14 input.sk-hidden--visually {border: 0;clip: rect(1px 1px 1px 1px);clip: rect(1px, 1px, 1px, 1px);height: 1px;margin: -1px;overflow: hidden;padding: 0;position: absolute;width: 1px;}#sk-container-id-14 div.sk-estimator {font-family: monospace;background-color: #f0f8ff;border: 1px dotted black;border-radius: 0.25em;box-sizing: border-box;margin-bottom: 0.5em;}#sk-container-id-14 div.sk-estimator:hover {background-color: #d4ebff;}#sk-container-id-14 div.sk-parallel-item::after {content: \"\";width: 100%;border-bottom: 1px solid gray;flex-grow: 1;}#sk-container-id-14 div.sk-label:hover label.sk-toggleable__label {background-color: #d4ebff;}#sk-container-id-14 div.sk-serial::before {content: \"\";position: absolute;border-left: 1px solid gray;box-sizing: border-box;top: 0;bottom: 0;left: 50%;z-index: 0;}#sk-container-id-14 div.sk-serial {display: flex;flex-direction: column;align-items: center;background-color: white;padding-right: 0.2em;padding-left: 0.2em;position: relative;}#sk-container-id-14 div.sk-item {position: relative;z-index: 1;}#sk-container-id-14 div.sk-parallel {display: flex;align-items: stretch;justify-content: center;background-color: white;position: relative;}#sk-container-id-14 div.sk-item::before, #sk-container-id-14 div.sk-parallel-item::before {content: \"\";position: absolute;border-left: 1px solid gray;box-sizing: border-box;top: 0;bottom: 0;left: 50%;z-index: -1;}#sk-container-id-14 div.sk-parallel-item {display: flex;flex-direction: column;z-index: 1;position: relative;background-color: white;}#sk-container-id-14 div.sk-parallel-item:first-child::after {align-self: flex-end;width: 50%;}#sk-container-id-14 div.sk-parallel-item:last-child::after {align-self: flex-start;width: 50%;}#sk-container-id-14 div.sk-parallel-item:only-child::after {width: 0;}#sk-container-id-14 div.sk-dashed-wrapped {border: 1px dashed gray;margin: 0 0.4em 0.5em 0.4em;box-sizing: border-box;padding-bottom: 0.4em;background-color: white;}#sk-container-id-14 div.sk-label label {font-family: monospace;font-weight: bold;display: inline-block;line-height: 1.2em;}#sk-container-id-14 div.sk-label-container {text-align: center;}#sk-container-id-14 div.sk-container {/* jupyter's `normalize.less` sets `[hidden] { display: none; }` but bootstrap.min.css set `[hidden] { display: none !important; }` so we also need the `!important` here to be able to override the default hidden behavior on the sphinx rendered scikit-learn.org. See: https://github.com/scikit-learn/scikit-learn/issues/21755 */display: inline-block !important;position: relative;}#sk-container-id-14 div.sk-text-repr-fallback {display: none;}</style><div id=\"sk-container-id-14\" class=\"sk-top-container\"><div class=\"sk-text-repr-fallback\"><pre>Pipeline(steps=[(&#x27;drop&#x27;,\n",
       "                 FunctionTransformer(func=&lt;function drop_columns at 0x1746b44a0&gt;)),\n",
       "                (&#x27;preproccessing&#x27;,\n",
       "                 ColumnTransformer(transformers=[(&#x27;One_hot&#x27;, OneHotEncoder(),\n",
       "                                                  [&#x27;MultipleLines&#x27;,\n",
       "                                                   &#x27;InternetService&#x27;,\n",
       "                                                   &#x27;OnlineSecurity&#x27;,\n",
       "                                                   &#x27;OnlineBackup&#x27;,\n",
       "                                                   &#x27;DeviceProtection&#x27;,\n",
       "                                                   &#x27;TechSupport&#x27;, &#x27;StreamingTV&#x27;,\n",
       "                                                   &#x27;StreamingMovies&#x27;,\n",
       "                                                   &#x27;Contract&#x27;,\n",
       "                                                   &#x27;PaymentMethod&#x27;]),\n",
       "                                                 (&#x27;yes_no&#x27;, OrdinalEncoder(),\n",
       "                                                  [&#x27;SeniorCitizen&#x27;, &#x27;Partner&#x27;,\n",
       "                                                   &#x27;Dependents&#x27;, &#x27;PhoneService&#x27;,\n",
       "                                                   &#x27;PaperlessBilling&#x27;]),\n",
       "                                                 (&#x27;scaling&#x27;, StandardScaler(),\n",
       "                                                  [&#x27;tenure&#x27;,\n",
       "                                                   &#x27;MonthlyCharges&#x27;])])),\n",
       "                (&#x27;model1&#x27;, LogisticRegression())])</pre><b>In a Jupyter environment, please rerun this cell to show the HTML representation or trust the notebook. <br />On GitHub, the HTML representation is unable to render, please try loading this page with nbviewer.org.</b></div><div class=\"sk-container\" hidden><div class=\"sk-item sk-dashed-wrapped\"><div class=\"sk-label-container\"><div class=\"sk-label sk-toggleable\"><input class=\"sk-toggleable__control sk-hidden--visually\" id=\"sk-estimator-id-136\" type=\"checkbox\" ><label for=\"sk-estimator-id-136\" class=\"sk-toggleable__label sk-toggleable__label-arrow\">Pipeline</label><div class=\"sk-toggleable__content\"><pre>Pipeline(steps=[(&#x27;drop&#x27;,\n",
       "                 FunctionTransformer(func=&lt;function drop_columns at 0x1746b44a0&gt;)),\n",
       "                (&#x27;preproccessing&#x27;,\n",
       "                 ColumnTransformer(transformers=[(&#x27;One_hot&#x27;, OneHotEncoder(),\n",
       "                                                  [&#x27;MultipleLines&#x27;,\n",
       "                                                   &#x27;InternetService&#x27;,\n",
       "                                                   &#x27;OnlineSecurity&#x27;,\n",
       "                                                   &#x27;OnlineBackup&#x27;,\n",
       "                                                   &#x27;DeviceProtection&#x27;,\n",
       "                                                   &#x27;TechSupport&#x27;, &#x27;StreamingTV&#x27;,\n",
       "                                                   &#x27;StreamingMovies&#x27;,\n",
       "                                                   &#x27;Contract&#x27;,\n",
       "                                                   &#x27;PaymentMethod&#x27;]),\n",
       "                                                 (&#x27;yes_no&#x27;, OrdinalEncoder(),\n",
       "                                                  [&#x27;SeniorCitizen&#x27;, &#x27;Partner&#x27;,\n",
       "                                                   &#x27;Dependents&#x27;, &#x27;PhoneService&#x27;,\n",
       "                                                   &#x27;PaperlessBilling&#x27;]),\n",
       "                                                 (&#x27;scaling&#x27;, StandardScaler(),\n",
       "                                                  [&#x27;tenure&#x27;,\n",
       "                                                   &#x27;MonthlyCharges&#x27;])])),\n",
       "                (&#x27;model1&#x27;, LogisticRegression())])</pre></div></div></div><div class=\"sk-serial\"><div class=\"sk-item\"><div class=\"sk-estimator sk-toggleable\"><input class=\"sk-toggleable__control sk-hidden--visually\" id=\"sk-estimator-id-137\" type=\"checkbox\" ><label for=\"sk-estimator-id-137\" class=\"sk-toggleable__label sk-toggleable__label-arrow\">FunctionTransformer</label><div class=\"sk-toggleable__content\"><pre>FunctionTransformer(func=&lt;function drop_columns at 0x1746b44a0&gt;)</pre></div></div></div><div class=\"sk-item sk-dashed-wrapped\"><div class=\"sk-label-container\"><div class=\"sk-label sk-toggleable\"><input class=\"sk-toggleable__control sk-hidden--visually\" id=\"sk-estimator-id-138\" type=\"checkbox\" ><label for=\"sk-estimator-id-138\" class=\"sk-toggleable__label sk-toggleable__label-arrow\">preproccessing: ColumnTransformer</label><div class=\"sk-toggleable__content\"><pre>ColumnTransformer(transformers=[(&#x27;One_hot&#x27;, OneHotEncoder(),\n",
       "                                 [&#x27;MultipleLines&#x27;, &#x27;InternetService&#x27;,\n",
       "                                  &#x27;OnlineSecurity&#x27;, &#x27;OnlineBackup&#x27;,\n",
       "                                  &#x27;DeviceProtection&#x27;, &#x27;TechSupport&#x27;,\n",
       "                                  &#x27;StreamingTV&#x27;, &#x27;StreamingMovies&#x27;, &#x27;Contract&#x27;,\n",
       "                                  &#x27;PaymentMethod&#x27;]),\n",
       "                                (&#x27;yes_no&#x27;, OrdinalEncoder(),\n",
       "                                 [&#x27;SeniorCitizen&#x27;, &#x27;Partner&#x27;, &#x27;Dependents&#x27;,\n",
       "                                  &#x27;PhoneService&#x27;, &#x27;PaperlessBilling&#x27;]),\n",
       "                                (&#x27;scaling&#x27;, StandardScaler(),\n",
       "                                 [&#x27;tenure&#x27;, &#x27;MonthlyCharges&#x27;])])</pre></div></div></div><div class=\"sk-parallel\"><div class=\"sk-parallel-item\"><div class=\"sk-item\"><div class=\"sk-label-container\"><div class=\"sk-label sk-toggleable\"><input class=\"sk-toggleable__control sk-hidden--visually\" id=\"sk-estimator-id-139\" type=\"checkbox\" ><label for=\"sk-estimator-id-139\" class=\"sk-toggleable__label sk-toggleable__label-arrow\">One_hot</label><div class=\"sk-toggleable__content\"><pre>[&#x27;MultipleLines&#x27;, &#x27;InternetService&#x27;, &#x27;OnlineSecurity&#x27;, &#x27;OnlineBackup&#x27;, &#x27;DeviceProtection&#x27;, &#x27;TechSupport&#x27;, &#x27;StreamingTV&#x27;, &#x27;StreamingMovies&#x27;, &#x27;Contract&#x27;, &#x27;PaymentMethod&#x27;]</pre></div></div></div><div class=\"sk-serial\"><div class=\"sk-item\"><div class=\"sk-estimator sk-toggleable\"><input class=\"sk-toggleable__control sk-hidden--visually\" id=\"sk-estimator-id-140\" type=\"checkbox\" ><label for=\"sk-estimator-id-140\" class=\"sk-toggleable__label sk-toggleable__label-arrow\">OneHotEncoder</label><div class=\"sk-toggleable__content\"><pre>OneHotEncoder()</pre></div></div></div></div></div></div><div class=\"sk-parallel-item\"><div class=\"sk-item\"><div class=\"sk-label-container\"><div class=\"sk-label sk-toggleable\"><input class=\"sk-toggleable__control sk-hidden--visually\" id=\"sk-estimator-id-141\" type=\"checkbox\" ><label for=\"sk-estimator-id-141\" class=\"sk-toggleable__label sk-toggleable__label-arrow\">yes_no</label><div class=\"sk-toggleable__content\"><pre>[&#x27;SeniorCitizen&#x27;, &#x27;Partner&#x27;, &#x27;Dependents&#x27;, &#x27;PhoneService&#x27;, &#x27;PaperlessBilling&#x27;]</pre></div></div></div><div class=\"sk-serial\"><div class=\"sk-item\"><div class=\"sk-estimator sk-toggleable\"><input class=\"sk-toggleable__control sk-hidden--visually\" id=\"sk-estimator-id-142\" type=\"checkbox\" ><label for=\"sk-estimator-id-142\" class=\"sk-toggleable__label sk-toggleable__label-arrow\">OrdinalEncoder</label><div class=\"sk-toggleable__content\"><pre>OrdinalEncoder()</pre></div></div></div></div></div></div><div class=\"sk-parallel-item\"><div class=\"sk-item\"><div class=\"sk-label-container\"><div class=\"sk-label sk-toggleable\"><input class=\"sk-toggleable__control sk-hidden--visually\" id=\"sk-estimator-id-143\" type=\"checkbox\" ><label for=\"sk-estimator-id-143\" class=\"sk-toggleable__label sk-toggleable__label-arrow\">scaling</label><div class=\"sk-toggleable__content\"><pre>[&#x27;tenure&#x27;, &#x27;MonthlyCharges&#x27;]</pre></div></div></div><div class=\"sk-serial\"><div class=\"sk-item\"><div class=\"sk-estimator sk-toggleable\"><input class=\"sk-toggleable__control sk-hidden--visually\" id=\"sk-estimator-id-144\" type=\"checkbox\" ><label for=\"sk-estimator-id-144\" class=\"sk-toggleable__label sk-toggleable__label-arrow\">StandardScaler</label><div class=\"sk-toggleable__content\"><pre>StandardScaler()</pre></div></div></div></div></div></div></div></div><div class=\"sk-item\"><div class=\"sk-estimator sk-toggleable\"><input class=\"sk-toggleable__control sk-hidden--visually\" id=\"sk-estimator-id-145\" type=\"checkbox\" ><label for=\"sk-estimator-id-145\" class=\"sk-toggleable__label sk-toggleable__label-arrow\">LogisticRegression</label><div class=\"sk-toggleable__content\"><pre>LogisticRegression()</pre></div></div></div></div></div></div></div>"
      ],
      "text/plain": [
       "Pipeline(steps=[('drop',\n",
       "                 FunctionTransformer(func=<function drop_columns at 0x1746b44a0>)),\n",
       "                ('preproccessing',\n",
       "                 ColumnTransformer(transformers=[('One_hot', OneHotEncoder(),\n",
       "                                                  ['MultipleLines',\n",
       "                                                   'InternetService',\n",
       "                                                   'OnlineSecurity',\n",
       "                                                   'OnlineBackup',\n",
       "                                                   'DeviceProtection',\n",
       "                                                   'TechSupport', 'StreamingTV',\n",
       "                                                   'StreamingMovies',\n",
       "                                                   'Contract',\n",
       "                                                   'PaymentMethod']),\n",
       "                                                 ('yes_no', OrdinalEncoder(),\n",
       "                                                  ['SeniorCitizen', 'Partner',\n",
       "                                                   'Dependents', 'PhoneService',\n",
       "                                                   'PaperlessBilling']),\n",
       "                                                 ('scaling', StandardScaler(),\n",
       "                                                  ['tenure',\n",
       "                                                   'MonthlyCharges'])])),\n",
       "                ('model1', LogisticRegression())])"
      ]
     },
     "execution_count": 174,
     "metadata": {},
     "output_type": "execute_result"
    }
   ],
   "source": [
    "traning_pipeline_logistic.fit(x_train, y_train)"
   ]
  },
  {
   "cell_type": "code",
   "execution_count": 176,
   "id": "c22a58fb-b844-4a02-bdca-53737ec7129b",
   "metadata": {},
   "outputs": [],
   "source": [
    "y_prediction_logistics = traning_pipeline_logistic.predict(x_test)"
   ]
  },
  {
   "cell_type": "code",
   "execution_count": 178,
   "id": "c5430288-8221-46f1-a659-38350cd92af5",
   "metadata": {},
   "outputs": [],
   "source": [
    "from sklearn.svm import SVC\n",
    "from sklearn.model_selection import GridSearchCV "
   ]
  },
  {
   "cell_type": "code",
   "execution_count": 180,
   "id": "d5401268-e12c-4e42-b0ae-39f43243dbae",
   "metadata": {},
   "outputs": [],
   "source": [
    "traning_pipeline__SCV = Pipeline([\n",
    "    ('drop', FunctionTransformer(drop_columns)),\n",
    "    ('preproccessing', preprocessing),\n",
    "    ('model', SVC())])"
   ]
  },
  {
   "cell_type": "code",
   "execution_count": 182,
   "id": "cb684d3d-86c5-4fdd-93a9-e26ae03d2609",
   "metadata": {},
   "outputs": [],
   "source": [
    "param_grid = {\n",
    "    'model__kernel': ['linear', 'poly', 'rbf', 'sigmoid']}\n",
    "grid = GridSearchCV(estimator=traning_pipeline__SCV,\n",
    "                    param_grid=param_grid,\n",
    "                    scoring='accuracy')"
   ]
  },
  {
   "cell_type": "code",
   "execution_count": 192,
   "id": "08f3927c-3820-49b0-9886-185d91d07680",
   "metadata": {},
   "outputs": [],
   "source": [
    "# grid.fit(x_train,y_train)"
   ]
  },
  {
   "cell_type": "code",
   "execution_count": 185,
   "id": "b8a6cad7-8626-4aed-b1ff-39572e731683",
   "metadata": {},
   "outputs": [],
   "source": [
    "y_prediction_svc = grid.predict(x_test)"
   ]
  },
  {
   "cell_type": "code",
   "execution_count": 186,
   "id": "bc796973-74dc-40e3-a779-2e7a53f1f3e1",
   "metadata": {},
   "outputs": [
    {
     "data": {
      "text/plain": [
       "array([[ 55,  47],\n",
       "       [ 23, 162]])"
      ]
     },
     "execution_count": 186,
     "metadata": {},
     "output_type": "execute_result"
    }
   ],
   "source": [
    "confusion_matrix(y_test, y_prediction_logistics)"
   ]
  },
  {
   "cell_type": "code",
   "execution_count": 187,
   "id": "86eece56-03b5-4cbe-a0e6-3b32a3a13dfb",
   "metadata": {},
   "outputs": [
    {
     "data": {
      "text/plain": [
       "array([[ 49,  53],\n",
       "       [ 18, 167]])"
      ]
     },
     "execution_count": 187,
     "metadata": {},
     "output_type": "execute_result"
    }
   ],
   "source": [
    "confusion_matrix(y_test, y_prediction_svc)"
   ]
  },
  {
   "cell_type": "markdown",
   "id": "85c22721-29ba-4d1c-ab35-6aedbb2c89d0",
   "metadata": {},
   "source": [
    "## Evaluation Metrics"
   ]
  },
  {
   "cell_type": "code",
   "execution_count": null,
   "id": "9df29fec-a774-4953-a2f1-922a55678a3b",
   "metadata": {},
   "outputs": [],
   "source": [
    "# y.value_counts()"
   ]
  },
  {
   "cell_type": "code",
   "execution_count": null,
   "id": "1cb6164b-16ae-461a-b547-51c548d79c31",
   "metadata": {},
   "outputs": [],
   "source": [
    "confusion_matrix(y_test, y_prediction)"
   ]
  },
  {
   "cell_type": "code",
   "execution_count": null,
   "id": "03285aab-970d-42eb-928b-5e738fb98e75",
   "metadata": {},
   "outputs": [],
   "source": [
    "(167 + 418) / (167 + 418 + 36+ 97)"
   ]
  },
  {
   "cell_type": "code",
   "execution_count": null,
   "id": "2504d82a-ff67-4b69-9fa8-ce8682c2dfd7",
   "metadata": {},
   "outputs": [],
   "source": [
    "(True Negatie + True +Positive) / (True Negatie + True +Positive  + False Negative False Positive)"
   ]
  },
  {
   "cell_type": "code",
   "execution_count": null,
   "id": "6886adc1-3e77-47a4-8e42-4f20649dae63",
   "metadata": {},
   "outputs": [],
   "source": []
  },
  {
   "cell_type": "markdown",
   "id": "6b8383c3",
   "metadata": {},
   "source": [
    "<a id=\"5\"></a>\n",
    "<div style=\"padding:20px;\n",
    "            color:white;\n",
    "            margin:10;\n",
    "            font-size:170%;\n",
    "            text-align:left;\n",
    "            display:fill;\n",
    "            border-radius:5px;\n",
    "            background-color:#222222;\n",
    "            overflow:hidden;\n",
    "            font-weight:700\">4 <span style='color:#CDA63A'>|</span>Data Splitting and Model Building</div>"
   ]
  },
  {
   "cell_type": "markdown",
   "id": "85851cc3",
   "metadata": {},
   "source": [
    "<a id=\"5.1\"></a>\n",
    "# <b>4.1 <span style='color:#00008B'>Data Splitting Or Cross Validation</span></b>\n"
   ]
  },
  {
   "cell_type": "markdown",
   "id": "de62c7d0",
   "metadata": {},
   "source": [
    "**splitting** our dataset into training and testing sets to avoid bias in your model.<br>\n",
    "**Overfitting**"
   ]
  },
  {
   "cell_type": "code",
   "execution_count": null,
   "id": "c8bb91bc",
   "metadata": {},
   "outputs": [],
   "source": [
    "X = df2.drop(columns='Churn')\n",
    "y = df2['Churn']"
   ]
  },
  {
   "cell_type": "code",
   "execution_count": null,
   "id": "d307b492-3549-451a-b38a-18461e6d236e",
   "metadata": {},
   "outputs": [],
   "source": [
    "from sklearn.model_selection import train_test_split "
   ]
  },
  {
   "cell_type": "code",
   "execution_count": null,
   "id": "1b5bc420-f809-42e5-8e37-b807e7c0b728",
   "metadata": {
    "tags": []
   },
   "outputs": [],
   "source": [
    "x_train, x_test, y_train, y_test = train_test_split(X, y, test_size = 0.20, random_state = 0)"
   ]
  },
  {
   "cell_type": "markdown",
   "id": "d48a03b1-7595-4fae-b53d-60dbca2f8efe",
   "metadata": {},
   "source": [
    "<a id=\"5.2\"></a>\n",
    "# <b>5.2 <span style='color:#00008B'>Model Buiding and Model Evaluation</span></b>"
   ]
  },
  {
   "cell_type": "markdown",
   "id": "822f75ce",
   "metadata": {},
   "source": [
    "**LogisticRegression**\n",
    "<img src=\"https://raw.githubusercontent.com/ManonYa09/Statistics_with_Python_G7/main/Part%204%20Regression%20Analysis/Photos/Logistics.png\" alt=\"Logistics\" width=\"50%\" style=\"display: block; margin: 0 auto;\">\n",
    "<img src=\"https://raw.githubusercontent.com/ManonYa09/Statistics_with_Python_G7/main/Part%204%20Regression%20Analysis/Photos/Sigmoid_function.png\" alt=\"Logistics\" width=\"50%\" style=\"display: block; margin: 0 auto;\">"
   ]
  },
  {
   "cell_type": "markdown",
   "id": "fa9d73aa-1d73-422b-89d0-21482da2cc94",
   "metadata": {},
   "source": [
    "<img src=\"https://raw.githubusercontent.com/ManonYa09/Statistics_with_Python_G7/main/Part%204%20Regression%20Analysis/Photos/confusion_matrix.webp\" alt=\"Logistics\" width=\"50%\" style=\"display: block; margin: 0 auto;\">"
   ]
  },
  {
   "cell_type": "code",
   "execution_count": null,
   "id": "99e8465c",
   "metadata": {},
   "outputs": [],
   "source": [
    "def model_eval(y_test,y_pred): ## y_test:y_actual\n",
    "    tn, fp, fn, tp = confusion_matrix(y_test,y_pred).ravel()\n",
    "    accuracy=(tp+tn)/(tp+tn+fp+fn)\n",
    "    error = 1-accuracy\n",
    "    precision=tp/(tp+fp) ## tp : 1: correct , fp: 1 wrong\n",
    "    recall=tp/(tp+fn) ## tp : 1: correct, fn: 0 : wrong, 1 \n",
    "    specificity=tn/(fp+tn)\n",
    "    result={\"Accuracy\":accuracy,\"Error\":error, \"Precision\":precision,\"Recall\":recall,'Specificity':specificity}\n",
    "    return result"
   ]
  },
  {
   "cell_type": "code",
   "execution_count": null,
   "id": "4f9168fc",
   "metadata": {},
   "outputs": [],
   "source": [
    "model_eval(y_test2, y_pred2)"
   ]
  },
  {
   "cell_type": "markdown",
   "id": "e9a96963",
   "metadata": {},
   "source": [
    "<a id=\"5.2.1\"></a>\n",
    "## <b>5.2.1 <span style='color:#00008B'>Feature selection</span></b>\n"
   ]
  },
  {
   "cell_type": "markdown",
   "id": "daaa4357",
   "metadata": {},
   "source": [
    "<a id=\"5.2.1.1\"></a>\n",
    "### <b>5.2.1.1 <span style='color:#00008B'>Recursive Feature Elimination (RFE)</span></b>\n",
    "\n",
    "[More about RFE](https://www.analyticsvidhya.com/blog/2023/05/recursive-feature-elimination/#:~:text=Recursive%20Feature%20Elimination%20is%20a,number%20of%20features%20is%20obtained.)\n",
    "```python\n",
    "from sklearn.feature_selection import RFE\n",
    "from sklearn.linear_model import LogisticRegression\n",
    "\n",
    "# Create a logistic regression model\n",
    "model = LogisticRegression()\n",
    "\n",
    "# Initialize RFE with desired number of features\n",
    "n_features = 10\n",
    "rfe = RFE(estimator=model, n_features_to_select=n_features)\n",
    "\n",
    "# Fit RFE on the training data\n",
    "X_train_selected = rfe.fit_transform(X_train, y_train)\n",
    "X_test_selected = rfe.transform(X_test)\n",
    "\n",
    "# Get selected feature indices\n",
    "selected_feature_indices = rfe.support_\n",
    "selected_features = X.columns[selected_feature_indices]\n",
    "\n",
    "```\n"
   ]
  },
  {
   "cell_type": "markdown",
   "id": "6da74e3f",
   "metadata": {},
   "source": [
    "## Model building using RFE\n",
    "---\n",
    "**Recursive Feature Elimination** algorithm works in the following steps:\n",
    "1. Rank the importance of all features using the chosen RFE machine learning algorithm.\n",
    "2. Eliminate the least important feature.\n",
    "3. Build a model using the remaining features."
   ]
  },
  {
   "cell_type": "code",
   "execution_count": null,
   "id": "4abad1ca",
   "metadata": {},
   "outputs": [],
   "source": [
    "n = int(input('Input the number of features you want to predict: '))\n",
    "\n",
    "rfe = RFE(Logistic2, n_features_to_select= n)\n",
    "rfe.fit(x_train, y_train)"
   ]
  },
  {
   "cell_type": "code",
   "execution_count": null,
   "id": "c10b7ee3",
   "metadata": {},
   "outputs": [],
   "source": [
    "len(x_train2.columns)"
   ]
  },
  {
   "cell_type": "code",
   "execution_count": null,
   "id": "8fbefa54",
   "metadata": {},
   "outputs": [],
   "source": [
    "rfe.support_"
   ]
  },
  {
   "cell_type": "code",
   "execution_count": null,
   "id": "c7d3ebf0",
   "metadata": {},
   "outputs": [],
   "source": [
    "\n",
    "selected_features = x_train[x_train.columns[rfe.support_]]"
   ]
  },
  {
   "cell_type": "code",
   "execution_count": null,
   "id": "8460f3e7",
   "metadata": {},
   "outputs": [],
   "source": [
    "selected_features"
   ]
  },
  {
   "cell_type": "code",
   "execution_count": null,
   "id": "b9ed967b",
   "metadata": {},
   "outputs": [],
   "source": [
    "# selected_features"
   ]
  },
  {
   "cell_type": "code",
   "execution_count": null,
   "id": "a06dc1d5",
   "metadata": {},
   "outputs": [],
   "source": [
    "Logistic3 = LogisticRegression()"
   ]
  },
  {
   "cell_type": "code",
   "execution_count": null,
   "id": "43efad36",
   "metadata": {},
   "outputs": [],
   "source": [
    "# "
   ]
  },
  {
   "cell_type": "code",
   "execution_count": null,
   "id": "deb86b9a",
   "metadata": {},
   "outputs": [],
   "source": [
    "# x_train = x_train[selected_features]"
   ]
  },
  {
   "cell_type": "code",
   "execution_count": null,
   "id": "c061b51c",
   "metadata": {},
   "outputs": [],
   "source": [
    "Logistic3.fit(selected_features, y_train)"
   ]
  },
  {
   "cell_type": "code",
   "execution_count": null,
   "id": "6c780658",
   "metadata": {},
   "outputs": [],
   "source": [
    "selected_features.columns"
   ]
  },
  {
   "cell_type": "code",
   "execution_count": null,
   "id": "081bc98d",
   "metadata": {},
   "outputs": [],
   "source": [
    "x_test2[selected_features.columns]"
   ]
  },
  {
   "cell_type": "code",
   "execution_count": null,
   "id": "91dcd0a7",
   "metadata": {},
   "outputs": [],
   "source": [
    "y_pred3 = Logistic3.predict(x_test2[selected_features.columns])"
   ]
  },
  {
   "cell_type": "code",
   "execution_count": null,
   "id": "8346d6f2-3cb7-4e18-838e-d1d30c1bbb72",
   "metadata": {},
   "outputs": [],
   "source": [
    "len(y_pred3)"
   ]
  },
  {
   "cell_type": "code",
   "execution_count": null,
   "id": "544621d8",
   "metadata": {},
   "outputs": [],
   "source": [
    "model_eval(y_test2, y_pred3)"
   ]
  },
  {
   "cell_type": "code",
   "execution_count": null,
   "id": "790e74f3-f47f-47f5-933a-c82863d76c3b",
   "metadata": {},
   "outputs": [],
   "source": [
    "x_test2[selected_features.columns]"
   ]
  },
  {
   "cell_type": "code",
   "execution_count": null,
   "id": "2f62fb33",
   "metadata": {},
   "outputs": [],
   "source": [
    "Logistic3.coef_"
   ]
  },
  {
   "cell_type": "code",
   "execution_count": null,
   "id": "3f49e0f5",
   "metadata": {},
   "outputs": [],
   "source": [
    "# selected_features.isnull().sum()"
   ]
  },
  {
   "cell_type": "code",
   "execution_count": null,
   "id": "eb4051d8",
   "metadata": {},
   "outputs": [],
   "source": [
    "# y_train.isnull().sum()"
   ]
  },
  {
   "cell_type": "code",
   "execution_count": null,
   "id": "75c56287",
   "metadata": {},
   "outputs": [],
   "source": [
    "# selected_features = selected_features.astype(int)"
   ]
  },
  {
   "cell_type": "code",
   "execution_count": null,
   "id": "d3c97770",
   "metadata": {},
   "outputs": [],
   "source": [
    "# y_train"
   ]
  },
  {
   "cell_type": "code",
   "execution_count": null,
   "id": "b833213a",
   "metadata": {},
   "outputs": [],
   "source": [
    "# Logistic1.coef_"
   ]
  },
  {
   "cell_type": "code",
   "execution_count": null,
   "id": "40d956be",
   "metadata": {},
   "outputs": [],
   "source": [
    "selected_features"
   ]
  },
  {
   "cell_type": "code",
   "execution_count": null,
   "id": "3a88df3e",
   "metadata": {},
   "outputs": [],
   "source": [
    "coefficients1 = Logistic3.coef_\n",
    "coefficients1"
   ]
  },
  {
   "cell_type": "code",
   "execution_count": null,
   "id": "8357b63b",
   "metadata": {},
   "outputs": [],
   "source": [
    "coefficients1 = coefficients1[0].tolist()"
   ]
  },
  {
   "cell_type": "code",
   "execution_count": null,
   "id": "8cbc8736",
   "metadata": {},
   "outputs": [],
   "source": [
    "feature_names=selected_features.columns.tolist()"
   ]
  },
  {
   "cell_type": "code",
   "execution_count": null,
   "id": "a2f2ac1f",
   "metadata": {},
   "outputs": [],
   "source": [
    "final_featureimportance = pd.DataFrame({'Coefficient':coefficients1,\n",
    "                          'feature_names1':feature_names})\n",
    "final_featureimportance"
   ]
  },
  {
   "cell_type": "code",
   "execution_count": null,
   "id": "530b24fb-e016-42e1-809f-07b9f5943076",
   "metadata": {},
   "outputs": [],
   "source": [
    "data = pd.read_csv('WA_Fn-UseC_-Telco-Customer-Churn.csv')"
   ]
  },
  {
   "cell_type": "code",
   "execution_count": null,
   "id": "072df064-79d8-4352-9b4b-bcc2753c95d1",
   "metadata": {},
   "outputs": [],
   "source": [
    "sns.countplot(x = data['Contract'], hue = data['Churn'])"
   ]
  },
  {
   "cell_type": "code",
   "execution_count": null,
   "id": "ad0c280a-06db-4c8d-bb5a-5b5e3df8ae38",
   "metadata": {},
   "outputs": [],
   "source": [
    "sns.countplot(x = data['InternetService'], hue = data['Churn'])"
   ]
  },
  {
   "cell_type": "code",
   "execution_count": null,
   "id": "fbeefd94",
   "metadata": {},
   "outputs": [],
   "source": [
    "final_featureimportance.sort_values(by = 'Coefficient', ascending=False)"
   ]
  },
  {
   "cell_type": "code",
   "execution_count": null,
   "id": "891a371c",
   "metadata": {},
   "outputs": [],
   "source": [
    "# Logistic1.intercept_"
   ]
  },
  {
   "cell_type": "code",
   "execution_count": null,
   "id": "c1781cc4",
   "metadata": {},
   "outputs": [],
   "source": [
    "from explainerdashboard import ClassifierExplainer , ExplainerDashboard\n",
    "\n"
   ]
  },
  {
   "cell_type": "code",
   "execution_count": null,
   "id": "a38ae6c5",
   "metadata": {},
   "outputs": [],
   "source": [
    "explainer = ClassifierExplainer(Logistic2, selected_features, y_train)\n",
    "ExplainerDashboard(explainer, port=433).run()"
   ]
  },
  {
   "cell_type": "code",
   "execution_count": null,
   "id": "03244864",
   "metadata": {},
   "outputs": [],
   "source": []
  }
 ],
 "metadata": {
  "celltoolbar": "Raw Cell Format",
  "kernelspec": {
   "display_name": "Python 3 (ipykernel)",
   "language": "python",
   "name": "python3"
  },
  "language_info": {
   "codemirror_mode": {
    "name": "ipython",
    "version": 3
   },
   "file_extension": ".py",
   "mimetype": "text/x-python",
   "name": "python",
   "nbconvert_exporter": "python",
   "pygments_lexer": "ipython3",
   "version": "3.11.5"
  }
 },
 "nbformat": 4,
 "nbformat_minor": 5
}
